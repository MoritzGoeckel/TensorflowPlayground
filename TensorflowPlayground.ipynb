{
 "cells": [
  {
   "cell_type": "code",
   "execution_count": null,
   "metadata": {
    "collapsed": true
   },
   "outputs": [],
   "source": [
    "import tensorflow as tf\n",
    "\n",
    "batchSize = 2\n",
    "inputDimensions = 3\n",
    "outputDimensions = 2\n",
    "\n",
    "x = tf.placeholder(tf.float32, shape=[batchSize, inputDimensions], name='X')\n",
    "y = tf.placeholder(tf.float32, shape=[batchSize, outputDimensions], name='Y')\n",
    "\n",
    "def addFullyConnectedLayer(nodes, higherLayer):\n",
    "    higherLayerNodes = int(higherLayer.get_shape()[1])\n",
    "    layerWeights = tf.Variable(initial_value = tf.random_normal([higherLayerNodes, nodes], stddev=0.35), dtype = tf.float32, expected_shape = [higherLayerNodes, nodes], name='WEIGHTS')\n",
    "    layerBiases = tf.Variable(initial_value = tf.random_normal([nodes], stddev=0.35), dtype = tf.float32, expected_shape = [nodes], name='BIASES')\n",
    "    return tf.add(tf.matmul(higherLayer, layerWeights), layerBiases)\n",
    "\n",
    "#tf.reduce_sum(, 1, keep_dims=True)\n",
    "\n",
    "layer1 = addFullyConnectedLayer(5, x)\n",
    "layer2 = addFullyConnectedLayer(10, layer1)\n",
    "\n",
    "init_op = tf.global_variables_initializer()\n",
    "\n",
    "with tf.Session() as sess:\n",
    "    sess.run(init_op)\n",
    "    #sess.run(train, {x:xData, y:yData, learning_rate:lr})\n",
    "    print(sess.run(layer1, {x:[[1.0,1.0,1.0], [1.0,1.0,1.0]]})) # , y:[[0.0]]"
   ]
  }
 ],
 "metadata": {
  "kernelspec": {
   "display_name": "Python 3",
   "language": "python",
   "name": "python3"
  },
  "language_info": {
   "codemirror_mode": {
    "name": "ipython",
    "version": 3
   },
   "file_extension": ".py",
   "mimetype": "text/x-python",
   "name": "python",
   "nbconvert_exporter": "python",
   "pygments_lexer": "ipython3",
   "version": "3.5.2"
  }
 },
 "nbformat": 4,
 "nbformat_minor": 2
}
